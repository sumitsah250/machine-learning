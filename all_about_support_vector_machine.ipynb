{
 "cells": [
  {
   "cell_type": "markdown",
   "metadata": {},
   "source": [
    "Importing the Dependencies"
   ]
  },
  {
   "cell_type": "code",
   "execution_count": 1,
   "metadata": {},
   "outputs": [],
   "source": [
    "import numpy as np"
   ]
  },
  {
   "cell_type": "code",
   "execution_count": null,
   "metadata": {},
   "outputs": [],
   "source": [
    "class SVM_classifier():\n",
    "    # initiating the hyperparameters\n",
    "    def __init__(self,learning_rate,no_of_interations,lambda_parameter):\n",
    "        self.learning_rate=learning_rate\n",
    "        self.no_of_iterations=learning_rate\n",
    "        self.lambda_parameter=lambda_parameter\n",
    "    \n",
    "    # fitting the dataset to SVM Classifier\n",
    "    def fit(self,X,Y):\n",
    "             # m --> number of Data points --> no of rows\n",
    "        # n --> number of input features --> number of columns\n",
    "\n",
    "        self.m,self.n=X.shape\n",
    "        #initiating the weight value and bias value\n",
    "        self.w = np.zeros(self.n)\n",
    "        self.b=0\n",
    "        \n",
    "        self.X=X\n",
    "        self.Y=Y\n",
    "        \n",
    "        # implementing the Gradient Descent algorithm for Optimization\n",
    "        for i in range(self.no_of_iterations):\n",
    "            self.update_weights()\n",
    "    \n",
    "    # function for updating the weight and bias value\n",
    "    def update_weights(self):\n",
    "        y_label = np.where(self.Y <=0,-1,1)\n",
    "        for index,X_i in enemerate(self.X):\n",
    "            condition = y_label[index]*(np.dot(X_i,self.w)-self.b)>=1\n",
    "        if(condition==True):\n",
    "            dw=2*self.lambda_parameter*self.w\n",
    "            db=0\n",
    "        else:\n",
    "            dw=2*self.lambda_parameter*self.w-np.dot(X_i,y_label[index])\n",
    "            db=y_label[index]\n",
    "        \n",
    "        self.w=self.w-self.learning_rate*dw\n",
    "        self.b=self.b-self.learning_rate*db\n",
    "            \n",
    "   \n",
    "        \n",
    "        \n",
    "    # predection\n",
    "    def predict(self,X):\n",
    "        output=np.dot(X,self.w)-self.b\n",
    "        predicted_labels=np.sign(output)\n",
    "        Y_hatt=np.where(predicted_labels<=-1,0,1)\n",
    "        return Y_hatt\n",
    "            "
   ]
  }
 ],
 "metadata": {
  "kernelspec": {
   "display_name": "Python 3",
   "language": "python",
   "name": "python3"
  },
  "language_info": {
   "codemirror_mode": {
    "name": "ipython",
    "version": 3
   },
   "file_extension": ".py",
   "mimetype": "text/x-python",
   "name": "python",
   "nbconvert_exporter": "python",
   "pygments_lexer": "ipython3",
   "version": "3.12.3"
  }
 },
 "nbformat": 4,
 "nbformat_minor": 2
}
